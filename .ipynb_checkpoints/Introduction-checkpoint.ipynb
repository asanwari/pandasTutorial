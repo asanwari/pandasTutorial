{
 "cells": [
  {
   "cell_type": "markdown",
   "metadata": {},
   "source": [
    "# Introduction\n",
    "This notebook is inteneded as a learning tool for fellow data scientists and data science enthusiasts. In this notebook, I will be talking about the pandas library. The material here is going to be taken from several sources. I will try my best to cite all used sources and give credit where due.\n",
    "\n",
    "## What is pandas?\n",
    "pandas is a fast, powerful, flexible and easy to use open source data analysis and manipulation tool,\n",
    "built on top of the Python programming language. (https://pandas.pydata.org/)\n",
    "\n",
    "\n",
    "## Prerequisites\n",
    "Although I will start  from the very basic ideas, the reader is expected to have a fairly decent understanding of python. Afterall, this is a library built on python.\n",
    "\n",
    "\n",
    "I hope this somehow helps someone out there! Good luck!\n",
    "\n",
    "~ Ahmed\n"
   ]
  },
  {
   "cell_type": "markdown",
   "metadata": {},
   "source": [
    "# Data structures\n",
    "\n",
    "\n",
    "I really like to learn the basic data structure of anything new. This allows us to view the functionality and the operations from the perspective of the developers who wrote the library. Without a strong understanding of data structures, using pandas would require frequent \"googling\" (not saying that after understanding it you would be completely independent of google!). \n",
    "\n",
    "I guess the point here is that once we see how the data is handled from the prespective of the library, things make way more sense and it sort of becomes intuitive to work with it. Enough mumbling! Let's get on with it!\n",
    "\n",
    "Most resources for this section comes from pandas docs (https://pandas.pydata.org/docs/user_guide/dsintro.html#dsintro)"
   ]
  },
  {
   "cell_type": "markdown",
   "metadata": {},
   "source": [
    "There are two main data structures in pandas. They are:\n",
    "- **Series**\n",
    "- **Data frames**\n",
    "\n",
    "## Series\n",
    "A series is essentially a **one dimensional labelled array** capable of holding multiple data types. Here, the term labelled means that it has a named index. Let's explore with examples.\n"
   ]
  },
  {
   "cell_type": "code",
   "execution_count": 4,
   "metadata": {},
   "outputs": [],
   "source": [
    "# import the libraries\n",
    "import numpy as np\n",
    "\n",
    "import pandas as pd"
   ]
  },
  {
   "cell_type": "markdown",
   "metadata": {},
   "source": [
    "In terms of python, a series can be a good metaphor for a **list or a dict**. It acts as a list if the index is not defined."
   ]
  },
  {
   "cell_type": "code",
   "execution_count": 33,
   "metadata": {
    "scrolled": false
   },
   "outputs": [
    {
     "name": "stdout",
     "output_type": "stream",
     "text": [
      "The series is \n",
      "0    2\n",
      "1    8\n",
      "2    0\n",
      "3    7\n",
      "4    2\n",
      "dtype: int32\n",
      "\n",
      "The first value of the series is 2\n"
     ]
    }
   ],
   "source": [
    "# this will create a pandas series of 5 random  values. The axis labels (or index) are given as an array of labels\n",
    "s_unindexed = pd.Series(np.random.randint(low = 0, high = 10, size = 5))\n",
    "\n",
    "# show the entire series\n",
    "print(f'The series is \\n{s_unindexed}\\n')\n",
    "\n",
    "# show the first index\n",
    "print(f'The first value of the series is {s_unindexed[0]}')\n"
   ]
  },
  {
   "cell_type": "markdown",
   "metadata": {},
   "source": [
    "It acts as a dict if an index *is* defined"
   ]
  },
  {
   "cell_type": "code",
   "execution_count": 34,
   "metadata": {},
   "outputs": [
    {
     "name": "stdout",
     "output_type": "stream",
     "text": [
      "The series is \n",
      "a    6\n",
      "b    8\n",
      "c    0\n",
      "d    0\n",
      "e    7\n",
      "dtype: int32\n",
      "\n",
      "The first value of the series accessed by it's index label: 6\n",
      "The first value can also be accessed by index number: 6\n"
     ]
    }
   ],
   "source": [
    "# this will create a pandas series of 5 random  values. The axis labels (or index) are given as an array of labels\n",
    "s_indexed = pd.Series(np.random.randint(low = 0, high = 10, size = 5), index=[\"a\", \"b\", \"c\", \"d\", \"e\"])\n",
    "# show the entire series\n",
    "print(f'The series is \\n{s_indexed}\\n')\n",
    "\n",
    "# show the first index\n",
    "print(f'The first value of the series accessed by it\\'s index label: {s_indexed[\"a\"]}')\n",
    "print(f'The first value can also be accessed by index number: {s_indexed[0]}')\n",
    "\n"
   ]
  },
  {
   "cell_type": "markdown",
   "metadata": {},
   "source": [
    "To get all index labels, we do the following:"
   ]
  },
  {
   "cell_type": "code",
   "execution_count": 35,
   "metadata": {},
   "outputs": [
    {
     "name": "stdout",
     "output_type": "stream",
     "text": [
      "Index of unindexed series RangeIndex(start=0, stop=5, step=1)\n",
      "Index of indexed series Index(['a', 'b', 'c', 'd', 'e'], dtype='object')\n"
     ]
    }
   ],
   "source": [
    "print(f'Index of unindexed series {s_unindexed.index}')\n",
    "print(f'Index of indexed series {s_indexed.index}')"
   ]
  },
  {
   "cell_type": "markdown",
   "metadata": {},
   "source": [
    "### Prototype and data\n",
    "Now that we have a basic understanding of what a series is, we can look at how it can be defined and what can be done with it.\n",
    "\n",
    "The prototype of a series is as follows\n",
    "\n",
    "### <p style=\"color:#0331A1; text-align: center;\"> sample_series = pd.series(data, index)</p>\n",
    "\n",
    "\n",
    "prototypes:\n",
    "- data: The contents of the series. Possible values:\n",
    "    - scalar value (eg 5)\n",
    "    - a list\n",
    "    - a python dict\n",
    "- index: A list containing the index labels of the series\n"
   ]
  },
  {
   "cell_type": "markdown",
   "metadata": {},
   "source": [
    "When creating a series using a dict, we don't need to provide the index. "
   ]
  },
  {
   "cell_type": "code",
   "execution_count": 46,
   "metadata": {},
   "outputs": [
    {
     "name": "stdout",
     "output_type": "stream",
     "text": [
      "The person's data is name      Samantha\n",
      "age             33\n",
      "height    5ft 11in\n",
      "dtype: object\n",
      "The person's age is 33\n"
     ]
    }
   ],
   "source": [
    "person = {'name': 'Samantha', 'age': 33, 'height': '5ft 11in'}\n",
    "person_series = pd.Series(person)\n",
    "print(f'The person\\'s data is {person_series}')\n",
    "print(f'The person\\'s age is {person_series[\"age\"]}')"
   ]
  },
  {
   "cell_type": "markdown",
   "metadata": {},
   "source": [
    "However, if you still do that and the indices are missing, it would be added as a NaN value.\n",
    "\n",
    "If there is an attribute in the dictionary but not in the index variable, it will be removed from the series. Hence, make sure that things match here if you are doing this."
   ]
  },
  {
   "cell_type": "code",
   "execution_count": 48,
   "metadata": {},
   "outputs": [
    {
     "name": "stdout",
     "output_type": "stream",
     "text": [
      "name      Samantha\n",
      "age             33\n",
      "weight         NaN\n",
      "dtype: object\n"
     ]
    }
   ],
   "source": [
    "person_series = pd.Series(person, index=['name', 'age', 'weight'])\n",
    "print(person_series)\n",
    "# notice how the height attribute in the original dictionary has been removed."
   ]
  }
 ],
 "metadata": {
  "kernelspec": {
   "display_name": "Python 3",
   "language": "python",
   "name": "python3"
  },
  "language_info": {
   "codemirror_mode": {
    "name": "ipython",
    "version": 3
   },
   "file_extension": ".py",
   "mimetype": "text/x-python",
   "name": "python",
   "nbconvert_exporter": "python",
   "pygments_lexer": "ipython3",
   "version": "3.6.7"
  }
 },
 "nbformat": 4,
 "nbformat_minor": 2
}
